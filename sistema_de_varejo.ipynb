{
 "cells": [
  {
   "cell_type": "code",
   "execution_count": null,
   "metadata": {},
   "outputs": [
    {
     "ename": "",
     "evalue": "",
     "output_type": "error",
     "traceback": [
      "\u001b[1;31mRunning cells with 'Python 3.11.9' requires the ipykernel package.\n",
      "\u001b[1;31mRun the following command to install 'ipykernel' into the Python environment. \n",
      "\u001b[1;31mCommand: 'c:/msys64/ucrt64/bin/python.exe -m pip install ipykernel -U --user --force-reinstall'"
     ]
    }
   ],
   "source": [
    "import pandas as pd\n",
    "\n",
    "url = 'https://raw.githubusercontent.com/DaniloSovano/Sistema_de_Varejo/refs/heads/main/base_de_varejo.csv'\n",
    "data = pd.read_csv(url)\n",
    "\n",
    "data = data.replace(',', '.',regex = True)\n",
    "\n",
    "data\n",
    "import pandas as pd\n",
    "\n",
    "def calcular_lucro_total(data):\n",
    "\n",
    "    # Verificar dados faltantes\n",
    "    if data[['VV', 'VC', 'QUANT']].isnull().any().any():\n",
    "        raise ValueError(\"O DataFrame contém valores faltantes nas colunas 'VV', 'VC' ou 'QUANT'.\")\n",
    "\n",
    "    # Converter colunas para valores numéricos\n",
    "    data['VV'] = pd.to_numeric(data['VV'], errors='coerce')\n",
    "    data['VC'] = pd.to_numeric(data['VC'], errors='coerce')\n",
    "    data['QUANT'] = pd.to_numeric(data['QUANT'], errors='coerce')\n",
    "\n",
    "    # Criar colunas de lucro total para cada mês\n",
    "    meses = ['JAN', 'FEV', 'MAR', 'ABR', 'MAI', 'JUN', 'JUL', 'AGO', 'SET', 'OUT', 'NOV', 'DEZ']\n",
    "    \n",
    "    lucros_mensais = {}\n",
    "    for mes in meses:\n",
    "        # Calcular Lucro Total para cada mês\n",
    "        data[f'Lucro Total {mes}'] = (data['VV'] - data['VC']) * data[mes]\n",
    "        lucros_mensais[mes] = data[f'Lucro Total {mes}'].sum()\n",
    "    \n",
    "    # Criar um DataFrame com as somas mensais\n",
    "    lucros_mensais_df = pd.DataFrame(lucros_mensais, index=[0])\n",
    "    lucros_mensais_df = lucros_mensais_df.apply(pd.to_numeric, errors='coerce')\n",
    "\n",
    "    # Adicionar as somas mensais como nova linha no data\n",
    "    data = pd.concat([data, lucros_mensais_df], ignore_index=True)\n",
    "    \n",
    "    return data\n",
    "\n",
    "\n",
    "calcular_lucro_total(data)\n"
   ]
  }
 ],
 "metadata": {
  "kernelspec": {
   "display_name": "Python 3",
   "language": "python",
   "name": "python3"
  },
  "language_info": {
   "codemirror_mode": {
    "name": "ipython",
    "version": 3
   },
   "file_extension": ".py",
   "mimetype": "text/x-python",
   "name": "python",
   "nbconvert_exporter": "python",
   "pygments_lexer": "ipython3",
   "version": "3.11.9"
  }
 },
 "nbformat": 4,
 "nbformat_minor": 2
}
