{
 "cells": [
  {
   "cell_type": "code",
   "execution_count": 41,
   "metadata": {},
   "outputs": [
    {
     "name": "stdout",
     "output_type": "stream",
     "text": [
      "{'JAN': '41.97', 'FEV': '41.95', 'MAR': '41.54', 'ABR': '40.97', 'MAI': '40.14', 'JUN': '40.59', 'JUL': '41.52', 'AGO': '42.20', 'SET': '42.41', 'OUT': '43.08', 'NOV': '42.94', 'DEZ': '41.66'}\n"
     ]
    }
   ],
   "source": [
    "import pandas as pd\n",
    "\n",
    "url = 'https://raw.githubusercontent.com/DaniloSovano/Sistema_de_Varejo/refs/heads/main/base_de_varejo.csv'\n",
    "data = pd.read_csv(url)\n",
    "\n",
    "#Substitui as virgulas(,) por pontos(.)\n",
    "data = data.replace(',', '.',regex = True)\n",
    "lucro_bruto= {}\n",
    "lucro_liquido= {}\n",
    "despesas = {}\n",
    "def calcular_lucro_total(data):\n",
    "    #Cria uma copia do dataframe para não alterar o original\n",
    "    data_copy = data.copy()\n",
    "    # Converter colunas para valores numéricos\n",
    "    data_copy['VV'] = pd.to_numeric(data_copy['VV'], errors='coerce')\n",
    "    data_copy['VC'] = pd.to_numeric(data_copy['VC'], errors='coerce')\n",
    "    data_copy['QUANT'] = pd.to_numeric(data_copy['QUANT'], errors='coerce')\n",
    "\n",
    "    # Criar colunas de lucro total para cada mês\n",
    "    meses = ['JAN', 'FEV', 'MAR', 'ABR', 'MAI', 'JUN', 'JUL', 'AGO', 'SET', 'OUT', 'NOV', 'DEZ']\n",
    "    \n",
    "    \n",
    "    for mes in meses:\n",
    "        # Calcular despesas\n",
    "        despesas[mes] = (data_copy['VC'] * data_copy[mes]).sum()\n",
    "        lucro_bruto[mes] = (data_copy['VV'] * data_copy[mes]).sum()\n",
    "        lucro_liquido[mes] = \"{:.2f}\".format((lucro_bruto[mes] - despesas[mes]) / lucro_bruto[mes] * 100)\n",
    "\n",
    "    # Criar um Data_Frame com as somas mensais\n",
    "    return data_copy,despesas,lucro_bruto\n",
    "\n",
    "calcular_lucro_total(data)\n",
    "print(lucro_liquido)\n"
   ]
  }
 ],
 "metadata": {
  "kernelspec": {
   "display_name": ".venv",
   "language": "python",
   "name": "python3"
  },
  "language_info": {
   "codemirror_mode": {
    "name": "ipython",
    "version": 3
   },
   "file_extension": ".py",
   "mimetype": "text/x-python",
   "name": "python",
   "nbconvert_exporter": "python",
   "pygments_lexer": "ipython3",
   "version": "3.12.9"
  }
 },
 "nbformat": 4,
 "nbformat_minor": 2
}
